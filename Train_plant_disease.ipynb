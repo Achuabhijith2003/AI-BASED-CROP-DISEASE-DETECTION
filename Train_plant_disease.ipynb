{
  "cells": [
    {
      "cell_type": "markdown",
      "id": "5169432f-127b-417f-a4a4-8d3d822b9cf1",
      "metadata": {
        "id": "5169432f-127b-417f-a4a4-8d3d822b9cf1"
      },
      "source": [
        "## Importing Libraries"
      ]
    },
    {
      "cell_type": "code",
      "source": [
        "from google.colab import drive\n",
        "drive.mount('/content/drive')"
      ],
      "metadata": {
        "id": "IV2hP3hrU2sr",
        "colab": {
          "base_uri": "https://localhost:8080/"
        },
        "outputId": "9d03762b-fa60-4261-cdb8-62ab7ac0662c"
      },
      "id": "IV2hP3hrU2sr",
      "execution_count": null,
      "outputs": [
        {
          "output_type": "stream",
          "name": "stdout",
          "text": [
            "Mounted at /content/drive\n"
          ]
        }
      ]
    },
    {
      "cell_type": "code",
      "execution_count": null,
      "id": "32f1ccbd-0961-4d35-96cf-2f43a4e376ce",
      "metadata": {
        "id": "32f1ccbd-0961-4d35-96cf-2f43a4e376ce"
      },
      "outputs": [],
      "source": [
        "import tensorflow as tf\n",
        "import matplotlib.pyplot as plt\n",
        "import pandas as pd\n",
        "import seaborn as sns"
      ]
    },
    {
      "cell_type": "markdown",
      "id": "c605ae8b-6018-41ca-8e5e-8d3ab21cc11c",
      "metadata": {
        "id": "c605ae8b-6018-41ca-8e5e-8d3ab21cc11c"
      },
      "source": [
        "#### Dataset Link: https://www.kaggle.com/datasets/vipoooool/new-plant-diseases-dataset"
      ]
    },
    {
      "cell_type": "markdown",
      "id": "182e3285-206c-4697-a9af-38d32abb347e",
      "metadata": {
        "id": "182e3285-206c-4697-a9af-38d32abb347e"
      },
      "source": [
        "## Data Preprocessing"
      ]
    },
    {
      "cell_type": "markdown",
      "id": "31dad7ac-41b2-47af-875c-68a80e3381f4",
      "metadata": {
        "id": "31dad7ac-41b2-47af-875c-68a80e3381f4"
      },
      "source": [
        "### Training Image Preprocessing"
      ]
    },
    {
      "cell_type": "code",
      "execution_count": null,
      "id": "b0202d0b-9629-406d-8f9a-8b4d0c991768",
      "metadata": {
        "id": "b0202d0b-9629-406d-8f9a-8b4d0c991768",
        "outputId": "6f0948b7-425d-453e-c879-84e13d7d35f6",
        "colab": {
          "base_uri": "https://localhost:8080/"
        }
      },
      "outputs": [
        {
          "output_type": "stream",
          "name": "stdout",
          "text": [
            "Found 1027 files belonging to 3 classes.\n"
          ]
        }
      ],
      "source": [
        "training_set = tf.keras.utils.image_dataset_from_directory(\n",
        "    '/content/drive/MyDrive/Colab Notebooks/Chat Bot/aicrop/Rice-diseases-Data-Set/Dataset',\n",
        "    labels=\"inferred\",\n",
        "    label_mode=\"categorical\",\n",
        "    class_names=None,\n",
        "    color_mode=\"rgb\",\n",
        "    batch_size=32,\n",
        "    image_size=(128, 128),\n",
        "    shuffle=True,\n",
        "    seed=None,\n",
        "    validation_split=None,\n",
        "    subset=None,\n",
        "    interpolation=\"bilinear\",\n",
        "    follow_links=False,\n",
        "    crop_to_aspect_ratio=False,\n",
        ")"
      ]
    },
    {
      "cell_type": "markdown",
      "id": "4d11bf1c-6f27-4c85-be70-537de67413c5",
      "metadata": {
        "id": "4d11bf1c-6f27-4c85-be70-537de67413c5"
      },
      "source": [
        "### Validation Image Preprocessing"
      ]
    },
    {
      "cell_type": "code",
      "execution_count": null,
      "id": "1c58a984-0b8f-4736-b503-2c6c1c3b5dab",
      "metadata": {
        "id": "1c58a984-0b8f-4736-b503-2c6c1c3b5dab",
        "outputId": "d60cfbbf-02d6-4134-8b50-28d526ea7b83",
        "colab": {
          "base_uri": "https://localhost:8080/"
        }
      },
      "outputs": [
        {
          "output_type": "stream",
          "name": "stdout",
          "text": [
            "Found 1027 files belonging to 3 classes.\n"
          ]
        }
      ],
      "source": [
        "validation_set = tf.keras.utils.image_dataset_from_directory(\n",
        "    '/content/drive/MyDrive/Colab Notebooks/Chat Bot/aicrop/Rice-diseases-Data-Set/Dataset',\n",
        "    labels=\"inferred\",\n",
        "    label_mode=\"categorical\",\n",
        "    class_names=None,\n",
        "    color_mode=\"rgb\",\n",
        "    batch_size=32,\n",
        "    image_size=(128, 128),\n",
        "    shuffle=True,\n",
        "    seed=None,\n",
        "    validation_split=None,\n",
        "    subset=None,\n",
        "    interpolation=\"bilinear\",\n",
        "    follow_links=False,\n",
        "    crop_to_aspect_ratio=False,\n",
        ")"
      ]
    },
    {
      "cell_type": "code",
      "execution_count": null,
      "id": "41b85fb7-a59a-436c-825d-0d48613f0f64",
      "metadata": {
        "id": "41b85fb7-a59a-436c-825d-0d48613f0f64",
        "outputId": "a199879a-c2bf-4e09-cdb3-1f75dfdfb720",
        "colab": {
          "base_uri": "https://localhost:8080/"
        }
      },
      "outputs": [
        {
          "output_type": "execute_result",
          "data": {
            "text/plain": [
              "<_PrefetchDataset element_spec=(TensorSpec(shape=(None, 128, 128, 3), dtype=tf.float32, name=None), TensorSpec(shape=(None, 3), dtype=tf.float32, name=None))>"
            ]
          },
          "metadata": {},
          "execution_count": 8
        }
      ],
      "source": [
        "training_set"
      ]
    },
    {
      "cell_type": "code",
      "execution_count": null,
      "id": "503db050-446c-4bfe-bf49-6c29c26bd508",
      "metadata": {
        "id": "503db050-446c-4bfe-bf49-6c29c26bd508",
        "outputId": "5ece7722-7bf6-4500-afff-6465ac24f56d",
        "colab": {
          "base_uri": "https://localhost:8080/"
        }
      },
      "outputs": [
        {
          "output_type": "stream",
          "name": "stdout",
          "text": [
            "tf.Tensor(\n",
            "[[[[178.125     195.49219   206.4336   ]\n",
            "   [184.07812   199.125     208.03906  ]\n",
            "   [189.5625    199.9375    206.4961   ]\n",
            "   ...\n",
            "   [155.33203   162.5625    156.63281  ]\n",
            "   [161.92188   170.98438   161.53125  ]\n",
            "   [166.69531   184.63672   188.71484  ]]\n",
            "\n",
            "  [[177.27734   188.72656   204.80078  ]\n",
            "   [178.65234   190.41016   206.15234  ]\n",
            "   [184.1914    196.125     208.6211   ]\n",
            "   ...\n",
            "   [155.74219   168.0625    176.17188  ]\n",
            "   [149.08203   159.64453   168.60938  ]\n",
            "   [157.01172   167.3125    176.71094  ]]\n",
            "\n",
            "  [[186.33203   201.96875   209.92969  ]\n",
            "   [191.52734   205.4961    211.94531  ]\n",
            "   [189.2461    204.08984   207.3711   ]\n",
            "   ...\n",
            "   [163.45312   173.65625   162.89062  ]\n",
            "   [165.02344   173.08203   166.25     ]\n",
            "   [167.04688   181.53125   183.44531  ]]\n",
            "\n",
            "  ...\n",
            "\n",
            "  [[150.78516   154.13672   156.32031  ]\n",
            "   [152.27734   154.98438   154.40625  ]\n",
            "   [148.0039    148.1836    160.7539   ]\n",
            "   ...\n",
            "   [118.50391   130.26172   144.21484  ]\n",
            "   [118.42969   127.5625    142.4414   ]\n",
            "   [118.58594   124.27734   134.48438  ]]\n",
            "\n",
            "  [[144.76172   144.77344   154.96484  ]\n",
            "   [148.04688   149.79688   164.58203  ]\n",
            "   [147.76562   152.08594   158.47266  ]\n",
            "   ...\n",
            "   [123.046875  131.36328   134.03516  ]\n",
            "   [122.20703   128.64453   138.83203  ]\n",
            "   [123.25      129.57422   135.22266  ]]\n",
            "\n",
            "  [[153.625     153.6836    153.32422  ]\n",
            "   [153.73438   153.10938   158.63281  ]\n",
            "   [147.5664    145.6875    154.66406  ]\n",
            "   ...\n",
            "   [119.77344   128.96484   139.54688  ]\n",
            "   [108.16406   117.35156   132.66406  ]\n",
            "   [111.25391   121.38281   131.4375   ]]]\n",
            "\n",
            "\n",
            " [[[134.30469   153.1289    151.0625   ]\n",
            "   [101.98828   123.35156   114.140625 ]\n",
            "   [111.87109   134.8711    121.78516  ]\n",
            "   ...\n",
            "   [107.83203   150.45703    76.89453  ]\n",
            "   [168.80078   202.30078   157.73828  ]\n",
            "   [207.7539    230.5664    214.75781  ]]\n",
            "\n",
            "  [[125.8125    140.26172   136.9375   ]\n",
            "   [ 83.83203   101.171875   90.64453  ]\n",
            "   [103.03516   123.66016   111.96484  ]\n",
            "   ...\n",
            "   [106.1875    147.4375     74.30469  ]\n",
            "   [170.75      204.6875    158.3125   ]\n",
            "   [205.88672   229.3125    207.91406  ]]\n",
            "\n",
            "  [[107.31641   117.796875  113.88281  ]\n",
            "   [ 51.80078    66.66797    54.414062 ]\n",
            "   [ 78.95703    96.52734    85.40625  ]\n",
            "   ...\n",
            "   [108.125     149.58984    74.5      ]\n",
            "   [174.53906   206.29688   158.16797  ]\n",
            "   [203.41406   225.5586    201.32422  ]]\n",
            "\n",
            "  ...\n",
            "\n",
            "  [[ 22.5        11.230469   15.1015625]\n",
            "   [ 78.953125   64.89453    79.26953  ]\n",
            "   [ 59.972656   46.597656   60.89453  ]\n",
            "   ...\n",
            "   [134.9375    115.54297   121.81641  ]\n",
            "   [133.80078   113.66797   127.41016  ]\n",
            "   [211.35547   192.96094   215.4414   ]]\n",
            "\n",
            "  [[ 18.449219    7.5117188  11.324219 ]\n",
            "   [ 64.5625     50.5625     64.3125   ]\n",
            "   [ 68.36719    54.992188   69.05469  ]\n",
            "   ...\n",
            "   [133.82031   111.68359   121.57422  ]\n",
            "   [144.05078   122.69531   142.57031  ]\n",
            "   [226.0039    207.24219   234.74219  ]]\n",
            "\n",
            "  [[ 19.320312    8.441406   12.1953125]\n",
            "   [ 57.875      43.875      57.625    ]\n",
            "   [ 72.5        59.125      73.1875   ]\n",
            "   ...\n",
            "   [133.79297   110.16797   117.00391  ]\n",
            "   [150.52344   128.33594   150.04688  ]\n",
            "   [234.8125    218.80078   245.80469  ]]]\n",
            "\n",
            "\n",
            " [[[236.1211    245.1211    251.8789   ]\n",
            "   [237.63672   247.63672   249.63672  ]\n",
            "   [235.3164    243.7539    245.3789   ]\n",
            "   ...\n",
            "   [224.20312   229.91406   235.10938  ]\n",
            "   [225.71094   233.03516   226.22656  ]\n",
            "   [226.17578   234.1836    235.26562  ]]\n",
            "\n",
            "  [[238.33594   245.57422   250.84766  ]\n",
            "   [235.83203   243.98438   245.52734  ]\n",
            "   [238.375     245.3086    249.00781  ]\n",
            "   ...\n",
            "   [224.11719   232.92188   228.07812  ]\n",
            "   [230.36719   239.99219   229.29688  ]\n",
            "   [222.86328   227.875     233.65234  ]]\n",
            "\n",
            "  [[236.0625    244.41797   248.4961   ]\n",
            "   [237.29688   245.67969   245.19922  ]\n",
            "   [240.39062   246.25781   249.25     ]\n",
            "   ...\n",
            "   [222.91797   226.22266   236.39844  ]\n",
            "   [228.66406   232.26953   226.70312  ]\n",
            "   [226.02344   232.54688   229.1836   ]]\n",
            "\n",
            "  ...\n",
            "\n",
            "  [[125.05859   137.59766   102.578125 ]\n",
            "   [128.1914    137.0664    104.5625   ]\n",
            "   [127.90234   139.625     108.125    ]\n",
            "   ...\n",
            "   [115.39453   146.42188   101.22266  ]\n",
            "   [116.55859   146.8086    103.00391  ]\n",
            "   [113.14844   143.0664     96.8125   ]]\n",
            "\n",
            "  [[125.36328   137.58984   101.53906  ]\n",
            "   [124.44531   140.98047   103.88281  ]\n",
            "   [135.61719   142.23828   109.73047  ]\n",
            "   ...\n",
            "   [115.44141   146.98828    95.0625   ]\n",
            "   [116.03516   147.47266    98.50781  ]\n",
            "   [114.4375    145.875      99.0625   ]]\n",
            "\n",
            "  [[131.        148.64062   110.82031  ]\n",
            "   [138.0039    150.05469   114.36719  ]\n",
            "   [140.0664    154.6211    119.01953  ]\n",
            "   ...\n",
            "   [115.6875    147.70703    98.29297  ]\n",
            "   [115.0625    147.0625     99.9375   ]\n",
            "   [112.125     143.125      99.125    ]]]\n",
            "\n",
            "\n",
            " ...\n",
            "\n",
            "\n",
            " [[[226.125     223.0664    218.0664   ]\n",
            "   [227.9375    226.5625    221.94922  ]\n",
            "   [225.60547   221.27344   211.89453  ]\n",
            "   ...\n",
            "   [223.10547   228.10547   233.16797  ]\n",
            "   [223.48828   226.48828   231.48828  ]\n",
            "   [227.9336    229.0586    234.       ]]\n",
            "\n",
            "  [[224.8125    221.8125    213.3125   ]\n",
            "   [222.78516   221.41016   216.10547  ]\n",
            "   [223.36719   218.67969   215.125    ]\n",
            "   ...\n",
            "   [225.17969   229.4375    233.75     ]\n",
            "   [225.        228.15234   232.84766  ]\n",
            "   [226.625     227.8125    231.75     ]]\n",
            "\n",
            "  [[228.9375    224.9375    220.72656  ]\n",
            "   [224.88672   222.3789    217.625    ]\n",
            "   [227.20312   223.78516   216.64062  ]\n",
            "   ...\n",
            "   [225.46094   228.76172   233.9336   ]\n",
            "   [227.4414    231.4414    234.4414   ]\n",
            "   [225.01562   227.08203   228.72656  ]]\n",
            "\n",
            "  ...\n",
            "\n",
            "  [[188.78906   192.6211    202.46094  ]\n",
            "   [186.30078   191.30469   203.66016  ]\n",
            "   [186.8125    192.95312   200.28906  ]\n",
            "   ...\n",
            "   [200.28906   211.13672   220.51953  ]\n",
            "   [193.08203   199.77344   213.36328  ]\n",
            "   [195.42969   199.83203   214.22656  ]]\n",
            "\n",
            "  [[182.73828   185.73828   193.11328  ]\n",
            "   [185.28516   188.28516   195.66016  ]\n",
            "   [189.82422   194.38672   198.96094  ]\n",
            "   ...\n",
            "   [196.94922   203.32422   212.14844  ]\n",
            "   [196.55469   200.99219   208.52734  ]\n",
            "   [203.63672   211.73438   210.1211   ]]\n",
            "\n",
            "  [[185.3789    189.3164    200.0664   ]\n",
            "   [190.01172   193.94922   203.19922  ]\n",
            "   [190.5664    194.48047   204.78125  ]\n",
            "   ...\n",
            "   [200.29297   210.66797   222.70703  ]\n",
            "   [191.05078   199.35156   212.51562  ]\n",
            "   [195.3164    201.5664    213.61719  ]]]\n",
            "\n",
            "\n",
            " [[[127.3125    103.3125     93.3125   ]\n",
            "   [139.76172   113.71094   100.4375   ]\n",
            "   [127.41797   102.10547    81.16797  ]\n",
            "   ...\n",
            "   [161.3125    114.25      137.9375   ]\n",
            "   [154.55078   106.55078   132.17578  ]\n",
            "   [152.0625    102.0625    129.0625   ]]\n",
            "\n",
            "  [[124.69922   102.26172    94.07422  ]\n",
            "   [135.15234   113.         99.8125   ]\n",
            "   [124.69141   101.25391    80.13281  ]\n",
            "   ...\n",
            "   [160.5664    113.50391   137.1914   ]\n",
            "   [154.22266   106.22266   131.84766  ]\n",
            "   [151.0625    101.0625    128.0625   ]]\n",
            "\n",
            "  [[121.29297   101.01953    93.25     ]\n",
            "   [131.94531   112.19531   101.0625   ]\n",
            "   [123.24219   100.42578    81.875    ]\n",
            "   ...\n",
            "   [160.3125    113.25      136.9375   ]\n",
            "   [153.375     105.375     131.       ]\n",
            "   [150.10547   100.10547   127.10547  ]]\n",
            "\n",
            "  ...\n",
            "\n",
            "  [[147.66797   139.29297   151.1875   ]\n",
            "   [125.50781   129.6211    149.8789   ]\n",
            "   [105.125     112.69531   134.33984  ]\n",
            "   ...\n",
            "   [ 24.375      81.0625    159.00781  ]\n",
            "   [ 25.8125     84.8125    164.4375   ]\n",
            "   [ 25.707031   88.58203   168.64453  ]]\n",
            "\n",
            "  [[140.36328   136.17578   151.17578  ]\n",
            "   [120.72266   127.40234   149.4375   ]\n",
            "   [101.75      111.87891   136.49219  ]\n",
            "   ...\n",
            "   [ 24.         80.6875    158.4375   ]\n",
            "   [ 25.8125     84.8125    164.4375   ]\n",
            "   [ 26.         88.875     168.9375   ]]\n",
            "\n",
            "  [[132.875     132.0664    150.1289   ]\n",
            "   [114.82422   125.55078   152.4375   ]\n",
            "   [ 98.14844   113.4375    139.77344  ]\n",
            "   ...\n",
            "   [ 23.         79.6875    157.4375   ]\n",
            "   [ 24.863281   83.86328   163.48828  ]\n",
            "   [ 26.         88.875     168.9375   ]]]\n",
            "\n",
            "\n",
            " [[[255.        255.        255.       ]\n",
            "   [255.        255.        255.       ]\n",
            "   [255.        255.        255.       ]\n",
            "   ...\n",
            "   [255.        255.        255.       ]\n",
            "   [255.        255.        255.       ]\n",
            "   [255.        255.        255.       ]]\n",
            "\n",
            "  [[255.        255.        255.       ]\n",
            "   [255.        255.        255.       ]\n",
            "   [255.        255.        255.       ]\n",
            "   ...\n",
            "   [255.        255.        255.       ]\n",
            "   [255.        255.        255.       ]\n",
            "   [255.        255.        255.       ]]\n",
            "\n",
            "  [[255.        255.        255.       ]\n",
            "   [255.        255.        255.       ]\n",
            "   [255.        255.        255.       ]\n",
            "   ...\n",
            "   [255.        255.        255.       ]\n",
            "   [255.        255.        255.       ]\n",
            "   [255.        255.        255.       ]]\n",
            "\n",
            "  ...\n",
            "\n",
            "  [[255.        255.        255.       ]\n",
            "   [255.        255.        255.       ]\n",
            "   [255.        255.        255.       ]\n",
            "   ...\n",
            "   [255.        255.        255.       ]\n",
            "   [255.        255.        255.       ]\n",
            "   [255.        255.        255.       ]]\n",
            "\n",
            "  [[255.        255.        255.       ]\n",
            "   [255.        255.        255.       ]\n",
            "   [255.        255.        255.       ]\n",
            "   ...\n",
            "   [255.        255.        255.       ]\n",
            "   [255.        255.        255.       ]\n",
            "   [255.        255.        255.       ]]\n",
            "\n",
            "  [[255.        255.        255.       ]\n",
            "   [255.        255.        255.       ]\n",
            "   [255.        255.        255.       ]\n",
            "   ...\n",
            "   [255.        255.        255.       ]\n",
            "   [255.        255.        255.       ]\n",
            "   [255.        255.        255.       ]]]], shape=(32, 128, 128, 3), dtype=float32) (32, 128, 128, 3)\n",
            "tf.Tensor(\n",
            "[[0. 0. 1.]\n",
            " [1. 0. 0.]\n",
            " [0. 1. 0.]\n",
            " [0. 1. 0.]\n",
            " [1. 0. 0.]\n",
            " [0. 1. 0.]\n",
            " [1. 0. 0.]\n",
            " [0. 1. 0.]\n",
            " [0. 1. 0.]\n",
            " [0. 1. 0.]\n",
            " [0. 1. 0.]\n",
            " [0. 1. 0.]\n",
            " [1. 0. 0.]\n",
            " [1. 0. 0.]\n",
            " [1. 0. 0.]\n",
            " [1. 0. 0.]\n",
            " [0. 1. 0.]\n",
            " [1. 0. 0.]\n",
            " [0. 1. 0.]\n",
            " [0. 1. 0.]\n",
            " [1. 0. 0.]\n",
            " [0. 1. 0.]\n",
            " [0. 0. 1.]\n",
            " [1. 0. 0.]\n",
            " [0. 1. 0.]\n",
            " [1. 0. 0.]\n",
            " [0. 1. 0.]\n",
            " [0. 1. 0.]\n",
            " [1. 0. 0.]\n",
            " [0. 1. 0.]\n",
            " [0. 1. 0.]\n",
            " [0. 1. 0.]], shape=(32, 3), dtype=float32) (32, 3)\n"
          ]
        }
      ],
      "source": [
        "for x,y in training_set:\n",
        "    print(x,x.shape)\n",
        "    print(y,y.shape)\n",
        "    break"
      ]
    },
    {
      "cell_type": "markdown",
      "id": "8a0cc272-8e53-452f-a55d-c9ece2650ce0",
      "metadata": {
        "id": "8a0cc272-8e53-452f-a55d-c9ece2650ce0"
      },
      "source": [
        "### To avoid Overshooting\n",
        "1. Choose small learning rate default 0.001 we are taking 0.0001\n",
        "2. There may be chance of Underfitting, so increase number of neuron\n",
        "3. Add more Convolution layer to extract more feature from images there may be possibilty that model unable to capture relevant feature or model is confusing due to lack of feature so feed with more feature"
      ]
    },
    {
      "cell_type": "markdown",
      "id": "4ec4bafa-fa6e-49a3-8f9b-2f37e95c7944",
      "metadata": {
        "id": "4ec4bafa-fa6e-49a3-8f9b-2f37e95c7944"
      },
      "source": [
        "## Building Model"
      ]
    },
    {
      "cell_type": "code",
      "execution_count": null,
      "id": "724e2f9c-706c-4b74-afc5-7f42ba389721",
      "metadata": {
        "id": "724e2f9c-706c-4b74-afc5-7f42ba389721"
      },
      "outputs": [],
      "source": [
        "from tensorflow.keras.layers import Dense,Conv2D,MaxPool2D,Flatten,Dropout\n",
        "from tensorflow.keras.models import Sequential"
      ]
    },
    {
      "cell_type": "code",
      "execution_count": null,
      "id": "2bfdd8e8-7173-4e5a-b5ab-a5bea9b282cf",
      "metadata": {
        "id": "2bfdd8e8-7173-4e5a-b5ab-a5bea9b282cf"
      },
      "outputs": [],
      "source": [
        "model = Sequential([\n",
        "    tf.keras.layers.Input(shape=(128, 128, 3)), #define the input shape here.\n",
        "    tf.keras.layers.Conv2D(32, (3, 3), activation='relu'),\n",
        "    # ... rest of your layers\n",
        "])"
      ]
    },
    {
      "cell_type": "code",
      "execution_count": null,
      "id": "ddede12e-9570-4238-a64b-726379279e2c",
      "metadata": {
        "id": "ddede12e-9570-4238-a64b-726379279e2c"
      },
      "outputs": [],
      "source": [
        "## Building Convolution Layer"
      ]
    },
    {
      "cell_type": "code",
      "execution_count": null,
      "id": "47e35607-bd2f-4b4d-ae68-2b287356002e",
      "metadata": {
        "id": "47e35607-bd2f-4b4d-ae68-2b287356002e",
        "colab": {
          "base_uri": "https://localhost:8080/"
        },
        "outputId": "06434eb9-3a89-45bb-d968-4500e768ece6"
      },
      "outputs": [
        {
          "output_type": "stream",
          "name": "stderr",
          "text": [
            "/usr/local/lib/python3.11/dist-packages/keras/src/layers/convolutional/base_conv.py:107: UserWarning: Do not pass an `input_shape`/`input_dim` argument to a layer. When using Sequential models, prefer using an `Input(shape)` object as the first layer in the model instead.\n",
            "  super().__init__(activity_regularizer=activity_regularizer, **kwargs)\n"
          ]
        }
      ],
      "source": [
        "model.add(Conv2D(filters=32,kernel_size=3,padding='same',activation='relu',input_shape=[128,128,3]))\n",
        "model.add(Conv2D(filters=32,kernel_size=3,activation='relu'))\n",
        "model.add(MaxPool2D(pool_size=2,strides=2))"
      ]
    },
    {
      "cell_type": "code",
      "execution_count": null,
      "id": "afa800a1-f1fe-449d-892a-8b25fccb59b7",
      "metadata": {
        "id": "afa800a1-f1fe-449d-892a-8b25fccb59b7"
      },
      "outputs": [],
      "source": [
        "model.add(Conv2D(filters=64,kernel_size=3,padding='same',activation='relu'))\n",
        "model.add(Conv2D(filters=64,kernel_size=3,activation='relu'))\n",
        "model.add(MaxPool2D(pool_size=2,strides=2))"
      ]
    },
    {
      "cell_type": "code",
      "execution_count": null,
      "id": "efb5538e-2964-4ea6-88a8-08d403af22e3",
      "metadata": {
        "id": "efb5538e-2964-4ea6-88a8-08d403af22e3"
      },
      "outputs": [],
      "source": [
        "model.add(Conv2D(filters=128,kernel_size=3,padding='same',activation='relu'))\n",
        "model.add(Conv2D(filters=128,kernel_size=3,activation='relu'))\n",
        "model.add(MaxPool2D(pool_size=2,strides=2))"
      ]
    },
    {
      "cell_type": "code",
      "execution_count": null,
      "id": "726385ea-e57e-427f-b8a3-db45ee61b3ad",
      "metadata": {
        "id": "726385ea-e57e-427f-b8a3-db45ee61b3ad"
      },
      "outputs": [],
      "source": [
        "model.add(Conv2D(filters=256,kernel_size=3,padding='same',activation='relu'))\n",
        "model.add(Conv2D(filters=256,kernel_size=3,activation='relu'))\n",
        "#model.add(MaxPool2D(pool_size=2,strides=2))"
      ]
    },
    {
      "cell_type": "markdown",
      "source": [],
      "metadata": {
        "id": "QXHzV2b3pgHv"
      },
      "id": "QXHzV2b3pgHv"
    },
    {
      "cell_type": "code",
      "execution_count": null,
      "id": "b940e6d3-515e-42aa-a733-73f19bff8f79",
      "metadata": {
        "id": "b940e6d3-515e-42aa-a733-73f19bff8f79"
      },
      "outputs": [],
      "source": [
        "model.add(Dropout(0.25)) # To avoid Overfitting"
      ]
    },
    {
      "cell_type": "code",
      "execution_count": null,
      "id": "34d41c56-810b-4bb6-94cc-ced4fb25ec1b",
      "metadata": {
        "id": "34d41c56-810b-4bb6-94cc-ced4fb25ec1b"
      },
      "outputs": [],
      "source": [
        "model.add(Flatten())"
      ]
    },
    {
      "cell_type": "code",
      "execution_count": null,
      "id": "97d54b69-adae-4909-888a-5a1b88e8bba3",
      "metadata": {
        "id": "97d54b69-adae-4909-888a-5a1b88e8bba3"
      },
      "outputs": [],
      "source": [
        "model.add(Dense(units=1500,activation='relu'))"
      ]
    },
    {
      "cell_type": "code",
      "execution_count": null,
      "id": "8d3c9868-c241-4fdc-8089-cbd480730cf9",
      "metadata": {
        "id": "8d3c9868-c241-4fdc-8089-cbd480730cf9"
      },
      "outputs": [],
      "source": [
        "model.add(Dropout(0.4))"
      ]
    },
    {
      "cell_type": "code",
      "execution_count": null,
      "id": "067e78a8-f43e-4b50-91b4-03fb75abdb76",
      "metadata": {
        "id": "067e78a8-f43e-4b50-91b4-03fb75abdb76"
      },
      "outputs": [],
      "source": [
        "#Output Layer\n",
        "model.add(Dense(units=3,activation='softmax'))"
      ]
    },
    {
      "cell_type": "markdown",
      "id": "bc90f6be-aaee-454c-81dd-0417b5d51b7c",
      "metadata": {
        "id": "bc90f6be-aaee-454c-81dd-0417b5d51b7c"
      },
      "source": [
        "### Compiling Model"
      ]
    },
    {
      "cell_type": "code",
      "execution_count": null,
      "id": "9efe382e-c8ed-4177-8904-2bd26f4ec2b1",
      "metadata": {
        "id": "9efe382e-c8ed-4177-8904-2bd26f4ec2b1"
      },
      "outputs": [],
      "source": [
        "model.compile(optimizer=tf.keras.optimizers.Adam(learning_rate=0.0001),\n",
        "              loss='categorical_crossentropy',\n",
        "              metrics=['accuracy'])"
      ]
    },
    {
      "cell_type": "code",
      "execution_count": null,
      "id": "a6000e40-1670-4b02-aa51-cbecc017c0db",
      "metadata": {
        "id": "a6000e40-1670-4b02-aa51-cbecc017c0db",
        "outputId": "8a612bfe-a9d8-4d6b-978c-26d9aa2a11c1",
        "colab": {
          "base_uri": "https://localhost:8080/",
          "height": 673
        }
      },
      "outputs": [
        {
          "output_type": "display_data",
          "data": {
            "text/plain": [
              "\u001b[1mModel: \"sequential\"\u001b[0m\n"
            ],
            "text/html": [
              "<pre style=\"white-space:pre;overflow-x:auto;line-height:normal;font-family:Menlo,'DejaVu Sans Mono',consolas,'Courier New',monospace\"><span style=\"font-weight: bold\">Model: \"sequential\"</span>\n",
              "</pre>\n"
            ]
          },
          "metadata": {}
        },
        {
          "output_type": "display_data",
          "data": {
            "text/plain": [
              "┏━━━━━━━━━━━━━━━━━━━━━━━━━━━━━━━━━━━━━━┳━━━━━━━━━━━━━━━━━━━━━━━━━━━━━┳━━━━━━━━━━━━━━━━━┓\n",
              "┃\u001b[1m \u001b[0m\u001b[1mLayer (type)                        \u001b[0m\u001b[1m \u001b[0m┃\u001b[1m \u001b[0m\u001b[1mOutput Shape               \u001b[0m\u001b[1m \u001b[0m┃\u001b[1m \u001b[0m\u001b[1m        Param #\u001b[0m\u001b[1m \u001b[0m┃\n",
              "┡━━━━━━━━━━━━━━━━━━━━━━━━━━━━━━━━━━━━━━╇━━━━━━━━━━━━━━━━━━━━━━━━━━━━━╇━━━━━━━━━━━━━━━━━┩\n",
              "│ conv2d (\u001b[38;5;33mConv2D\u001b[0m)                      │ (\u001b[38;5;45mNone\u001b[0m, \u001b[38;5;34m126\u001b[0m, \u001b[38;5;34m126\u001b[0m, \u001b[38;5;34m32\u001b[0m)        │             \u001b[38;5;34m896\u001b[0m │\n",
              "├──────────────────────────────────────┼─────────────────────────────┼─────────────────┤\n",
              "│ conv2d_1 (\u001b[38;5;33mConv2D\u001b[0m)                    │ (\u001b[38;5;45mNone\u001b[0m, \u001b[38;5;34m126\u001b[0m, \u001b[38;5;34m126\u001b[0m, \u001b[38;5;34m32\u001b[0m)        │           \u001b[38;5;34m9,248\u001b[0m │\n",
              "├──────────────────────────────────────┼─────────────────────────────┼─────────────────┤\n",
              "│ conv2d_2 (\u001b[38;5;33mConv2D\u001b[0m)                    │ (\u001b[38;5;45mNone\u001b[0m, \u001b[38;5;34m124\u001b[0m, \u001b[38;5;34m124\u001b[0m, \u001b[38;5;34m32\u001b[0m)        │           \u001b[38;5;34m9,248\u001b[0m │\n",
              "├──────────────────────────────────────┼─────────────────────────────┼─────────────────┤\n",
              "│ max_pooling2d (\u001b[38;5;33mMaxPooling2D\u001b[0m)         │ (\u001b[38;5;45mNone\u001b[0m, \u001b[38;5;34m62\u001b[0m, \u001b[38;5;34m62\u001b[0m, \u001b[38;5;34m32\u001b[0m)          │               \u001b[38;5;34m0\u001b[0m │\n",
              "├──────────────────────────────────────┼─────────────────────────────┼─────────────────┤\n",
              "│ conv2d_3 (\u001b[38;5;33mConv2D\u001b[0m)                    │ (\u001b[38;5;45mNone\u001b[0m, \u001b[38;5;34m62\u001b[0m, \u001b[38;5;34m62\u001b[0m, \u001b[38;5;34m64\u001b[0m)          │          \u001b[38;5;34m18,496\u001b[0m │\n",
              "├──────────────────────────────────────┼─────────────────────────────┼─────────────────┤\n",
              "│ conv2d_4 (\u001b[38;5;33mConv2D\u001b[0m)                    │ (\u001b[38;5;45mNone\u001b[0m, \u001b[38;5;34m60\u001b[0m, \u001b[38;5;34m60\u001b[0m, \u001b[38;5;34m64\u001b[0m)          │          \u001b[38;5;34m36,928\u001b[0m │\n",
              "├──────────────────────────────────────┼─────────────────────────────┼─────────────────┤\n",
              "│ max_pooling2d_1 (\u001b[38;5;33mMaxPooling2D\u001b[0m)       │ (\u001b[38;5;45mNone\u001b[0m, \u001b[38;5;34m30\u001b[0m, \u001b[38;5;34m30\u001b[0m, \u001b[38;5;34m64\u001b[0m)          │               \u001b[38;5;34m0\u001b[0m │\n",
              "├──────────────────────────────────────┼─────────────────────────────┼─────────────────┤\n",
              "│ conv2d_5 (\u001b[38;5;33mConv2D\u001b[0m)                    │ (\u001b[38;5;45mNone\u001b[0m, \u001b[38;5;34m30\u001b[0m, \u001b[38;5;34m30\u001b[0m, \u001b[38;5;34m128\u001b[0m)         │          \u001b[38;5;34m73,856\u001b[0m │\n",
              "├──────────────────────────────────────┼─────────────────────────────┼─────────────────┤\n",
              "│ conv2d_6 (\u001b[38;5;33mConv2D\u001b[0m)                    │ (\u001b[38;5;45mNone\u001b[0m, \u001b[38;5;34m28\u001b[0m, \u001b[38;5;34m28\u001b[0m, \u001b[38;5;34m128\u001b[0m)         │         \u001b[38;5;34m147,584\u001b[0m │\n",
              "├──────────────────────────────────────┼─────────────────────────────┼─────────────────┤\n",
              "│ max_pooling2d_2 (\u001b[38;5;33mMaxPooling2D\u001b[0m)       │ (\u001b[38;5;45mNone\u001b[0m, \u001b[38;5;34m14\u001b[0m, \u001b[38;5;34m14\u001b[0m, \u001b[38;5;34m128\u001b[0m)         │               \u001b[38;5;34m0\u001b[0m │\n",
              "├──────────────────────────────────────┼─────────────────────────────┼─────────────────┤\n",
              "│ conv2d_7 (\u001b[38;5;33mConv2D\u001b[0m)                    │ (\u001b[38;5;45mNone\u001b[0m, \u001b[38;5;34m14\u001b[0m, \u001b[38;5;34m14\u001b[0m, \u001b[38;5;34m256\u001b[0m)         │         \u001b[38;5;34m295,168\u001b[0m │\n",
              "├──────────────────────────────────────┼─────────────────────────────┼─────────────────┤\n",
              "│ conv2d_8 (\u001b[38;5;33mConv2D\u001b[0m)                    │ (\u001b[38;5;45mNone\u001b[0m, \u001b[38;5;34m12\u001b[0m, \u001b[38;5;34m12\u001b[0m, \u001b[38;5;34m256\u001b[0m)         │         \u001b[38;5;34m590,080\u001b[0m │\n",
              "├──────────────────────────────────────┼─────────────────────────────┼─────────────────┤\n",
              "│ dropout (\u001b[38;5;33mDropout\u001b[0m)                    │ (\u001b[38;5;45mNone\u001b[0m, \u001b[38;5;34m12\u001b[0m, \u001b[38;5;34m12\u001b[0m, \u001b[38;5;34m256\u001b[0m)         │               \u001b[38;5;34m0\u001b[0m │\n",
              "├──────────────────────────────────────┼─────────────────────────────┼─────────────────┤\n",
              "│ flatten (\u001b[38;5;33mFlatten\u001b[0m)                    │ (\u001b[38;5;45mNone\u001b[0m, \u001b[38;5;34m36864\u001b[0m)               │               \u001b[38;5;34m0\u001b[0m │\n",
              "├──────────────────────────────────────┼─────────────────────────────┼─────────────────┤\n",
              "│ dense (\u001b[38;5;33mDense\u001b[0m)                        │ (\u001b[38;5;45mNone\u001b[0m, \u001b[38;5;34m1500\u001b[0m)                │      \u001b[38;5;34m55,297,500\u001b[0m │\n",
              "├──────────────────────────────────────┼─────────────────────────────┼─────────────────┤\n",
              "│ dropout_1 (\u001b[38;5;33mDropout\u001b[0m)                  │ (\u001b[38;5;45mNone\u001b[0m, \u001b[38;5;34m1500\u001b[0m)                │               \u001b[38;5;34m0\u001b[0m │\n",
              "├──────────────────────────────────────┼─────────────────────────────┼─────────────────┤\n",
              "│ dense_1 (\u001b[38;5;33mDense\u001b[0m)                      │ (\u001b[38;5;45mNone\u001b[0m, \u001b[38;5;34m3\u001b[0m)                   │           \u001b[38;5;34m4,503\u001b[0m │\n",
              "└──────────────────────────────────────┴─────────────────────────────┴─────────────────┘\n"
            ],
            "text/html": [
              "<pre style=\"white-space:pre;overflow-x:auto;line-height:normal;font-family:Menlo,'DejaVu Sans Mono',consolas,'Courier New',monospace\">┏━━━━━━━━━━━━━━━━━━━━━━━━━━━━━━━━━━━━━━┳━━━━━━━━━━━━━━━━━━━━━━━━━━━━━┳━━━━━━━━━━━━━━━━━┓\n",
              "┃<span style=\"font-weight: bold\"> Layer (type)                         </span>┃<span style=\"font-weight: bold\"> Output Shape                </span>┃<span style=\"font-weight: bold\">         Param # </span>┃\n",
              "┡━━━━━━━━━━━━━━━━━━━━━━━━━━━━━━━━━━━━━━╇━━━━━━━━━━━━━━━━━━━━━━━━━━━━━╇━━━━━━━━━━━━━━━━━┩\n",
              "│ conv2d (<span style=\"color: #0087ff; text-decoration-color: #0087ff\">Conv2D</span>)                      │ (<span style=\"color: #00d7ff; text-decoration-color: #00d7ff\">None</span>, <span style=\"color: #00af00; text-decoration-color: #00af00\">126</span>, <span style=\"color: #00af00; text-decoration-color: #00af00\">126</span>, <span style=\"color: #00af00; text-decoration-color: #00af00\">32</span>)        │             <span style=\"color: #00af00; text-decoration-color: #00af00\">896</span> │\n",
              "├──────────────────────────────────────┼─────────────────────────────┼─────────────────┤\n",
              "│ conv2d_1 (<span style=\"color: #0087ff; text-decoration-color: #0087ff\">Conv2D</span>)                    │ (<span style=\"color: #00d7ff; text-decoration-color: #00d7ff\">None</span>, <span style=\"color: #00af00; text-decoration-color: #00af00\">126</span>, <span style=\"color: #00af00; text-decoration-color: #00af00\">126</span>, <span style=\"color: #00af00; text-decoration-color: #00af00\">32</span>)        │           <span style=\"color: #00af00; text-decoration-color: #00af00\">9,248</span> │\n",
              "├──────────────────────────────────────┼─────────────────────────────┼─────────────────┤\n",
              "│ conv2d_2 (<span style=\"color: #0087ff; text-decoration-color: #0087ff\">Conv2D</span>)                    │ (<span style=\"color: #00d7ff; text-decoration-color: #00d7ff\">None</span>, <span style=\"color: #00af00; text-decoration-color: #00af00\">124</span>, <span style=\"color: #00af00; text-decoration-color: #00af00\">124</span>, <span style=\"color: #00af00; text-decoration-color: #00af00\">32</span>)        │           <span style=\"color: #00af00; text-decoration-color: #00af00\">9,248</span> │\n",
              "├──────────────────────────────────────┼─────────────────────────────┼─────────────────┤\n",
              "│ max_pooling2d (<span style=\"color: #0087ff; text-decoration-color: #0087ff\">MaxPooling2D</span>)         │ (<span style=\"color: #00d7ff; text-decoration-color: #00d7ff\">None</span>, <span style=\"color: #00af00; text-decoration-color: #00af00\">62</span>, <span style=\"color: #00af00; text-decoration-color: #00af00\">62</span>, <span style=\"color: #00af00; text-decoration-color: #00af00\">32</span>)          │               <span style=\"color: #00af00; text-decoration-color: #00af00\">0</span> │\n",
              "├──────────────────────────────────────┼─────────────────────────────┼─────────────────┤\n",
              "│ conv2d_3 (<span style=\"color: #0087ff; text-decoration-color: #0087ff\">Conv2D</span>)                    │ (<span style=\"color: #00d7ff; text-decoration-color: #00d7ff\">None</span>, <span style=\"color: #00af00; text-decoration-color: #00af00\">62</span>, <span style=\"color: #00af00; text-decoration-color: #00af00\">62</span>, <span style=\"color: #00af00; text-decoration-color: #00af00\">64</span>)          │          <span style=\"color: #00af00; text-decoration-color: #00af00\">18,496</span> │\n",
              "├──────────────────────────────────────┼─────────────────────────────┼─────────────────┤\n",
              "│ conv2d_4 (<span style=\"color: #0087ff; text-decoration-color: #0087ff\">Conv2D</span>)                    │ (<span style=\"color: #00d7ff; text-decoration-color: #00d7ff\">None</span>, <span style=\"color: #00af00; text-decoration-color: #00af00\">60</span>, <span style=\"color: #00af00; text-decoration-color: #00af00\">60</span>, <span style=\"color: #00af00; text-decoration-color: #00af00\">64</span>)          │          <span style=\"color: #00af00; text-decoration-color: #00af00\">36,928</span> │\n",
              "├──────────────────────────────────────┼─────────────────────────────┼─────────────────┤\n",
              "│ max_pooling2d_1 (<span style=\"color: #0087ff; text-decoration-color: #0087ff\">MaxPooling2D</span>)       │ (<span style=\"color: #00d7ff; text-decoration-color: #00d7ff\">None</span>, <span style=\"color: #00af00; text-decoration-color: #00af00\">30</span>, <span style=\"color: #00af00; text-decoration-color: #00af00\">30</span>, <span style=\"color: #00af00; text-decoration-color: #00af00\">64</span>)          │               <span style=\"color: #00af00; text-decoration-color: #00af00\">0</span> │\n",
              "├──────────────────────────────────────┼─────────────────────────────┼─────────────────┤\n",
              "│ conv2d_5 (<span style=\"color: #0087ff; text-decoration-color: #0087ff\">Conv2D</span>)                    │ (<span style=\"color: #00d7ff; text-decoration-color: #00d7ff\">None</span>, <span style=\"color: #00af00; text-decoration-color: #00af00\">30</span>, <span style=\"color: #00af00; text-decoration-color: #00af00\">30</span>, <span style=\"color: #00af00; text-decoration-color: #00af00\">128</span>)         │          <span style=\"color: #00af00; text-decoration-color: #00af00\">73,856</span> │\n",
              "├──────────────────────────────────────┼─────────────────────────────┼─────────────────┤\n",
              "│ conv2d_6 (<span style=\"color: #0087ff; text-decoration-color: #0087ff\">Conv2D</span>)                    │ (<span style=\"color: #00d7ff; text-decoration-color: #00d7ff\">None</span>, <span style=\"color: #00af00; text-decoration-color: #00af00\">28</span>, <span style=\"color: #00af00; text-decoration-color: #00af00\">28</span>, <span style=\"color: #00af00; text-decoration-color: #00af00\">128</span>)         │         <span style=\"color: #00af00; text-decoration-color: #00af00\">147,584</span> │\n",
              "├──────────────────────────────────────┼─────────────────────────────┼─────────────────┤\n",
              "│ max_pooling2d_2 (<span style=\"color: #0087ff; text-decoration-color: #0087ff\">MaxPooling2D</span>)       │ (<span style=\"color: #00d7ff; text-decoration-color: #00d7ff\">None</span>, <span style=\"color: #00af00; text-decoration-color: #00af00\">14</span>, <span style=\"color: #00af00; text-decoration-color: #00af00\">14</span>, <span style=\"color: #00af00; text-decoration-color: #00af00\">128</span>)         │               <span style=\"color: #00af00; text-decoration-color: #00af00\">0</span> │\n",
              "├──────────────────────────────────────┼─────────────────────────────┼─────────────────┤\n",
              "│ conv2d_7 (<span style=\"color: #0087ff; text-decoration-color: #0087ff\">Conv2D</span>)                    │ (<span style=\"color: #00d7ff; text-decoration-color: #00d7ff\">None</span>, <span style=\"color: #00af00; text-decoration-color: #00af00\">14</span>, <span style=\"color: #00af00; text-decoration-color: #00af00\">14</span>, <span style=\"color: #00af00; text-decoration-color: #00af00\">256</span>)         │         <span style=\"color: #00af00; text-decoration-color: #00af00\">295,168</span> │\n",
              "├──────────────────────────────────────┼─────────────────────────────┼─────────────────┤\n",
              "│ conv2d_8 (<span style=\"color: #0087ff; text-decoration-color: #0087ff\">Conv2D</span>)                    │ (<span style=\"color: #00d7ff; text-decoration-color: #00d7ff\">None</span>, <span style=\"color: #00af00; text-decoration-color: #00af00\">12</span>, <span style=\"color: #00af00; text-decoration-color: #00af00\">12</span>, <span style=\"color: #00af00; text-decoration-color: #00af00\">256</span>)         │         <span style=\"color: #00af00; text-decoration-color: #00af00\">590,080</span> │\n",
              "├──────────────────────────────────────┼─────────────────────────────┼─────────────────┤\n",
              "│ dropout (<span style=\"color: #0087ff; text-decoration-color: #0087ff\">Dropout</span>)                    │ (<span style=\"color: #00d7ff; text-decoration-color: #00d7ff\">None</span>, <span style=\"color: #00af00; text-decoration-color: #00af00\">12</span>, <span style=\"color: #00af00; text-decoration-color: #00af00\">12</span>, <span style=\"color: #00af00; text-decoration-color: #00af00\">256</span>)         │               <span style=\"color: #00af00; text-decoration-color: #00af00\">0</span> │\n",
              "├──────────────────────────────────────┼─────────────────────────────┼─────────────────┤\n",
              "│ flatten (<span style=\"color: #0087ff; text-decoration-color: #0087ff\">Flatten</span>)                    │ (<span style=\"color: #00d7ff; text-decoration-color: #00d7ff\">None</span>, <span style=\"color: #00af00; text-decoration-color: #00af00\">36864</span>)               │               <span style=\"color: #00af00; text-decoration-color: #00af00\">0</span> │\n",
              "├──────────────────────────────────────┼─────────────────────────────┼─────────────────┤\n",
              "│ dense (<span style=\"color: #0087ff; text-decoration-color: #0087ff\">Dense</span>)                        │ (<span style=\"color: #00d7ff; text-decoration-color: #00d7ff\">None</span>, <span style=\"color: #00af00; text-decoration-color: #00af00\">1500</span>)                │      <span style=\"color: #00af00; text-decoration-color: #00af00\">55,297,500</span> │\n",
              "├──────────────────────────────────────┼─────────────────────────────┼─────────────────┤\n",
              "│ dropout_1 (<span style=\"color: #0087ff; text-decoration-color: #0087ff\">Dropout</span>)                  │ (<span style=\"color: #00d7ff; text-decoration-color: #00d7ff\">None</span>, <span style=\"color: #00af00; text-decoration-color: #00af00\">1500</span>)                │               <span style=\"color: #00af00; text-decoration-color: #00af00\">0</span> │\n",
              "├──────────────────────────────────────┼─────────────────────────────┼─────────────────┤\n",
              "│ dense_1 (<span style=\"color: #0087ff; text-decoration-color: #0087ff\">Dense</span>)                      │ (<span style=\"color: #00d7ff; text-decoration-color: #00d7ff\">None</span>, <span style=\"color: #00af00; text-decoration-color: #00af00\">3</span>)                   │           <span style=\"color: #00af00; text-decoration-color: #00af00\">4,503</span> │\n",
              "└──────────────────────────────────────┴─────────────────────────────┴─────────────────┘\n",
              "</pre>\n"
            ]
          },
          "metadata": {}
        },
        {
          "output_type": "display_data",
          "data": {
            "text/plain": [
              "\u001b[1m Total params: \u001b[0m\u001b[38;5;34m56,483,507\u001b[0m (215.47 MB)\n"
            ],
            "text/html": [
              "<pre style=\"white-space:pre;overflow-x:auto;line-height:normal;font-family:Menlo,'DejaVu Sans Mono',consolas,'Courier New',monospace\"><span style=\"font-weight: bold\"> Total params: </span><span style=\"color: #00af00; text-decoration-color: #00af00\">56,483,507</span> (215.47 MB)\n",
              "</pre>\n"
            ]
          },
          "metadata": {}
        },
        {
          "output_type": "display_data",
          "data": {
            "text/plain": [
              "\u001b[1m Trainable params: \u001b[0m\u001b[38;5;34m56,483,507\u001b[0m (215.47 MB)\n"
            ],
            "text/html": [
              "<pre style=\"white-space:pre;overflow-x:auto;line-height:normal;font-family:Menlo,'DejaVu Sans Mono',consolas,'Courier New',monospace\"><span style=\"font-weight: bold\"> Trainable params: </span><span style=\"color: #00af00; text-decoration-color: #00af00\">56,483,507</span> (215.47 MB)\n",
              "</pre>\n"
            ]
          },
          "metadata": {}
        },
        {
          "output_type": "display_data",
          "data": {
            "text/plain": [
              "\u001b[1m Non-trainable params: \u001b[0m\u001b[38;5;34m0\u001b[0m (0.00 B)\n"
            ],
            "text/html": [
              "<pre style=\"white-space:pre;overflow-x:auto;line-height:normal;font-family:Menlo,'DejaVu Sans Mono',consolas,'Courier New',monospace\"><span style=\"font-weight: bold\"> Non-trainable params: </span><span style=\"color: #00af00; text-decoration-color: #00af00\">0</span> (0.00 B)\n",
              "</pre>\n"
            ]
          },
          "metadata": {}
        }
      ],
      "source": [
        "model.summary()"
      ]
    },
    {
      "cell_type": "markdown",
      "id": "33649985-a16d-43f2-8e4b-75bf338d240d",
      "metadata": {
        "id": "33649985-a16d-43f2-8e4b-75bf338d240d"
      },
      "source": [
        "### Model Training"
      ]
    },
    {
      "cell_type": "code",
      "execution_count": null,
      "id": "7ecbf646-94ba-4e2d-8eaa-5c2ab6e025c7",
      "metadata": {
        "id": "7ecbf646-94ba-4e2d-8eaa-5c2ab6e025c7",
        "outputId": "1a4fe38e-1e06-43d9-9179-91c224eddd91",
        "colab": {
          "base_uri": "https://localhost:8080/"
        }
      },
      "outputs": [
        {
          "output_type": "stream",
          "name": "stdout",
          "text": [
            "Epoch 1/10\n",
            "\u001b[1m33/33\u001b[0m \u001b[32m━━━━━━━━━━━━━━━━━━━━\u001b[0m\u001b[37m\u001b[0m \u001b[1m198s\u001b[0m 6s/step - accuracy: 0.6061 - loss: 3.6511 - val_accuracy: 0.7848 - val_loss: 0.4414\n",
            "Epoch 2/10\n",
            "\u001b[1m33/33\u001b[0m \u001b[32m━━━━━━━━━━━━━━━━━━━━\u001b[0m\u001b[37m\u001b[0m \u001b[1m16s\u001b[0m 249ms/step - accuracy: 0.8080 - loss: 0.4445 - val_accuracy: 0.8783 - val_loss: 0.2821\n",
            "Epoch 3/10\n",
            "\u001b[1m33/33\u001b[0m \u001b[32m━━━━━━━━━━━━━━━━━━━━\u001b[0m\u001b[37m\u001b[0m \u001b[1m11s\u001b[0m 329ms/step - accuracy: 0.8992 - loss: 0.2836 - val_accuracy: 0.9727 - val_loss: 0.1574\n",
            "Epoch 4/10\n",
            "\u001b[1m33/33\u001b[0m \u001b[32m━━━━━━━━━━━━━━━━━━━━\u001b[0m\u001b[37m\u001b[0m \u001b[1m24s\u001b[0m 447ms/step - accuracy: 0.8747 - loss: 0.3132 - val_accuracy: 0.9796 - val_loss: 0.1111\n",
            "Epoch 5/10\n",
            "\u001b[1m33/33\u001b[0m \u001b[32m━━━━━━━━━━━━━━━━━━━━\u001b[0m\u001b[37m\u001b[0m \u001b[1m15s\u001b[0m 447ms/step - accuracy: 0.9706 - loss: 0.1203 - val_accuracy: 0.9825 - val_loss: 0.0882\n",
            "Epoch 6/10\n",
            "\u001b[1m33/33\u001b[0m \u001b[32m━━━━━━━━━━━━━━━━━━━━\u001b[0m\u001b[37m\u001b[0m \u001b[1m10s\u001b[0m 296ms/step - accuracy: 0.9524 - loss: 0.1261 - val_accuracy: 0.9455 - val_loss: 0.1692\n",
            "Epoch 7/10\n",
            "\u001b[1m33/33\u001b[0m \u001b[32m━━━━━━━━━━━━━━━━━━━━\u001b[0m\u001b[37m\u001b[0m \u001b[1m10s\u001b[0m 279ms/step - accuracy: 0.9527 - loss: 0.1158 - val_accuracy: 0.9932 - val_loss: 0.0307\n",
            "Epoch 8/10\n",
            "\u001b[1m33/33\u001b[0m \u001b[32m━━━━━━━━━━━━━━━━━━━━\u001b[0m\u001b[37m\u001b[0m \u001b[1m9s\u001b[0m 252ms/step - accuracy: 0.9906 - loss: 0.0334 - val_accuracy: 1.0000 - val_loss: 0.0075\n",
            "Epoch 9/10\n",
            "\u001b[1m33/33\u001b[0m \u001b[32m━━━━━━━━━━━━━━━━━━━━\u001b[0m\u001b[37m\u001b[0m \u001b[1m11s\u001b[0m 271ms/step - accuracy: 1.0000 - loss: 0.0157 - val_accuracy: 1.0000 - val_loss: 0.0020\n",
            "Epoch 10/10\n",
            "\u001b[1m33/33\u001b[0m \u001b[32m━━━━━━━━━━━━━━━━━━━━\u001b[0m\u001b[37m\u001b[0m \u001b[1m11s\u001b[0m 296ms/step - accuracy: 1.0000 - loss: 0.0047 - val_accuracy: 1.0000 - val_loss: 0.0013\n"
          ]
        }
      ],
      "source": [
        "training_history = model.fit(x=training_set, validation_data=validation_set, epochs=10)"
      ]
    },
    {
      "cell_type": "markdown",
      "id": "9387002d-adc6-4348-b0ff-235a55474859",
      "metadata": {
        "id": "9387002d-adc6-4348-b0ff-235a55474859"
      },
      "source": [
        "## Model Evaluation"
      ]
    },
    {
      "cell_type": "code",
      "execution_count": null,
      "id": "3c064d3b-8d5b-4af1-9707-914864efdc97",
      "metadata": {
        "id": "3c064d3b-8d5b-4af1-9707-914864efdc97",
        "outputId": "75690367-b573-4b3b-81e3-7bac76520b5c",
        "colab": {
          "base_uri": "https://localhost:8080/"
        }
      },
      "outputs": [
        {
          "output_type": "stream",
          "name": "stdout",
          "text": [
            "\u001b[1m33/33\u001b[0m \u001b[32m━━━━━━━━━━━━━━━━━━━━\u001b[0m\u001b[37m\u001b[0m \u001b[1m4s\u001b[0m 120ms/step - accuracy: 1.0000 - loss: 0.0013\n"
          ]
        }
      ],
      "source": [
        "#Model Evaluation on Training set\n",
        "train_loss,train_acc = model.evaluate(training_set)"
      ]
    },
    {
      "cell_type": "code",
      "execution_count": null,
      "id": "c83490d8-06e8-4718-837e-3fd7025f3b97",
      "metadata": {
        "id": "c83490d8-06e8-4718-837e-3fd7025f3b97",
        "outputId": "0f94d6f3-0971-4e34-89cd-1c26f4a29950",
        "colab": {
          "base_uri": "https://localhost:8080/"
        }
      },
      "outputs": [
        {
          "output_type": "stream",
          "name": "stdout",
          "text": [
            "0.0012924037873744965 1.0\n"
          ]
        }
      ],
      "source": [
        "print(train_loss,train_acc)"
      ]
    },
    {
      "cell_type": "code",
      "execution_count": null,
      "id": "d5abfb8d-8413-4462-b285-947094c84bd5",
      "metadata": {
        "id": "d5abfb8d-8413-4462-b285-947094c84bd5",
        "outputId": "a1e40906-aeb5-481c-dfe8-a4a512809629",
        "colab": {
          "base_uri": "https://localhost:8080/"
        }
      },
      "outputs": [
        {
          "output_type": "stream",
          "name": "stdout",
          "text": [
            "\u001b[1m33/33\u001b[0m \u001b[32m━━━━━━━━━━━━━━━━━━━━\u001b[0m\u001b[37m\u001b[0m \u001b[1m4s\u001b[0m 126ms/step - accuracy: 1.0000 - loss: 0.0012\n"
          ]
        }
      ],
      "source": [
        "#Model on Validation set\n",
        "val_loss,val_acc = model.evaluate(validation_set)"
      ]
    },
    {
      "cell_type": "code",
      "execution_count": null,
      "id": "e6890987-3f58-477c-85a1-e627087ebada",
      "metadata": {
        "id": "e6890987-3f58-477c-85a1-e627087ebada",
        "outputId": "04dff37b-61bd-4101-eb20-d9660b2b9ff1",
        "colab": {
          "base_uri": "https://localhost:8080/"
        }
      },
      "outputs": [
        {
          "output_type": "stream",
          "name": "stdout",
          "text": [
            "0.0012924040202051401 1.0\n"
          ]
        }
      ],
      "source": [
        "print(val_loss,val_acc)"
      ]
    },
    {
      "cell_type": "code",
      "execution_count": null,
      "id": "ea0dea8c-74b9-491f-be5e-f9920c70f567",
      "metadata": {
        "id": "ea0dea8c-74b9-491f-be5e-f9920c70f567"
      },
      "outputs": [],
      "source": []
    },
    {
      "cell_type": "markdown",
      "id": "2c01b1e6-6e00-435f-896b-b5c6adec8d25",
      "metadata": {
        "id": "2c01b1e6-6e00-435f-896b-b5c6adec8d25"
      },
      "source": [
        "### Saving Model"
      ]
    },
    {
      "cell_type": "code",
      "execution_count": null,
      "id": "562ee740-cd78-4a31-b7a9-7d111e43dfa0",
      "metadata": {
        "id": "562ee740-cd78-4a31-b7a9-7d111e43dfa0"
      },
      "outputs": [],
      "source": [
        "model.save(\"/content/drive/MyDrive/Colab Notebooks/Chat Bot/aicrop/trained_model.keras\")"
      ]
    },
    {
      "cell_type": "code",
      "execution_count": null,
      "id": "c4460f7c-8d30-4a23-91c6-ed32d83d7476",
      "metadata": {
        "id": "c4460f7c-8d30-4a23-91c6-ed32d83d7476",
        "outputId": "eead147d-9989-4e39-975a-6f64430428e9",
        "colab": {
          "base_uri": "https://localhost:8080/"
        }
      },
      "outputs": [
        {
          "output_type": "execute_result",
          "data": {
            "text/plain": [
              "{'accuracy': [0.6786757707595825,\n",
              "  0.8422589898109436,\n",
              "  0.9036027193069458,\n",
              "  0.8880233764648438,\n",
              "  0.9688413143157959,\n",
              "  0.949367105960846,\n",
              "  0.9620253443717957,\n",
              "  0.9912366271018982,\n",
              "  1.0,\n",
              "  1.0],\n",
              " 'loss': [1.8609212636947632,\n",
              "  0.39657992124557495,\n",
              "  0.2721751928329468,\n",
              "  0.28695034980773926,\n",
              "  0.11464517563581467,\n",
              "  0.1492888629436493,\n",
              "  0.0998910665512085,\n",
              "  0.032053012400865555,\n",
              "  0.010742309503257275,\n",
              "  0.006236614193767309],\n",
              " 'val_accuracy': [0.7848101258277893,\n",
              "  0.8782862424850464,\n",
              "  0.972736120223999,\n",
              "  0.9795520901679993,\n",
              "  0.9824731945991516,\n",
              "  0.945472240447998,\n",
              "  0.9931840300559998,\n",
              "  1.0,\n",
              "  1.0,\n",
              "  1.0],\n",
              " 'val_loss': [0.4414428174495697,\n",
              "  0.2821059823036194,\n",
              "  0.1574230045080185,\n",
              "  0.11107061803340912,\n",
              "  0.08818961679935455,\n",
              "  0.16923962533473969,\n",
              "  0.03072732500731945,\n",
              "  0.007513776421546936,\n",
              "  0.0020367922261357307,\n",
              "  0.0012924039037898183]}"
            ]
          },
          "metadata": {},
          "execution_count": 31
        }
      ],
      "source": [
        "training_history.history"
      ]
    },
    {
      "cell_type": "code",
      "execution_count": null,
      "id": "7a45982e-39ea-4d09-a1e9-e4b28ab2fe9e",
      "metadata": {
        "id": "7a45982e-39ea-4d09-a1e9-e4b28ab2fe9e"
      },
      "outputs": [],
      "source": [
        "#Recording History in json\n",
        "import json\n",
        "with open(\"training_hist.json\",\"w\") as f:\n",
        "    json.dump(training_history.history,f)"
      ]
    },
    {
      "cell_type": "code",
      "execution_count": null,
      "id": "ed71ff97-d41c-4c0c-9518-338cffdc43fe",
      "metadata": {
        "id": "ed71ff97-d41c-4c0c-9518-338cffdc43fe"
      },
      "outputs": [],
      "source": []
    },
    {
      "cell_type": "code",
      "execution_count": null,
      "id": "59dd0224-f127-43a5-b563-a01e4cb5028b",
      "metadata": {
        "id": "59dd0224-f127-43a5-b563-a01e4cb5028b",
        "outputId": "1cbb18a8-5332-43f9-d27c-0a77aced8886",
        "colab": {
          "base_uri": "https://localhost:8080/"
        }
      },
      "outputs": [
        {
          "output_type": "execute_result",
          "data": {
            "text/plain": [
              "[0.45045045018196106,\n",
              " 0.45045045018196106,\n",
              " 0.45045045018196106,\n",
              " 0.45045045018196106,\n",
              " 0.45045045018196106,\n",
              " 0.45045045018196106,\n",
              " 0.45045045018196106,\n",
              " 0.45045045018196106,\n",
              " 0.45045045018196106,\n",
              " 0.45045045018196106]"
            ]
          },
          "metadata": {},
          "execution_count": 71
        }
      ],
      "source": [
        "training_history.history['val_accuracy']"
      ]
    },
    {
      "cell_type": "markdown",
      "id": "532b9be8-1b16-4802-bbfe-0cacf297abf8",
      "metadata": {
        "id": "532b9be8-1b16-4802-bbfe-0cacf297abf8"
      },
      "source": [
        "### Accuracy Visualization"
      ]
    },
    {
      "cell_type": "code",
      "execution_count": null,
      "id": "206bce3d-76b7-41a2-96be-f8899c733a46",
      "metadata": {
        "id": "206bce3d-76b7-41a2-96be-f8899c733a46",
        "outputId": "930fd18d-d74f-452e-c75a-ee52cf07ff1b",
        "colab": {
          "base_uri": "https://localhost:8080/",
          "height": 472
        }
      },
      "outputs": [
        {
          "output_type": "display_data",
          "data": {
            "text/plain": [
              "<Figure size 640x480 with 1 Axes>"
            ],
            "image/png": "[encoded data removed]"
          },
          "metadata": {}
        }
      ],
      "source": [
        "epochs = [i for i in range(1,11)]\n",
        "plt.plot(epochs,training_history.history['accuracy'],color='red',label='Training Accuracy')\n",
        "plt.plot(epochs,training_history.history['val_accuracy'],color='blue',label='Validation Accuracy')\n",
        "plt.xlabel(\"No. of Epochs\")\n",
        "plt.ylabel(\"Accuracy Result\")\n",
        "plt.title(\"Visualization of Accuracy Result\")\n",
        "plt.legend()\n",
        "plt.show()"
      ]
    },
    {
      "cell_type": "code",
      "execution_count": null,
      "id": "26a11e0f-3f90-4e90-8028-58f04a45280d",
      "metadata": {
        "id": "26a11e0f-3f90-4e90-8028-58f04a45280d"
      },
      "outputs": [],
      "source": []
    },
    {
      "cell_type": "markdown",
      "id": "5b20c108-1114-4121-8252-5a147f7595ee",
      "metadata": {
        "id": "5b20c108-1114-4121-8252-5a147f7595ee"
      },
      "source": [
        "### Some other metrics for model evaluation"
      ]
    },
    {
      "cell_type": "code",
      "execution_count": null,
      "id": "9d7478a9-cadb-4431-bdcd-91611312a043",
      "metadata": {
        "id": "9d7478a9-cadb-4431-bdcd-91611312a043",
        "outputId": "9b8a1d61-5843-479a-8910-e20757b121ea",
        "colab": {
          "base_uri": "https://localhost:8080/"
        }
      },
      "outputs": [
        {
          "output_type": "execute_result",
          "data": {
            "text/plain": [
              "['Bacterial', 'Fungal', 'Viral']"
            ]
          },
          "metadata": {},
          "execution_count": 75
        }
      ],
      "source": [
        "class_name = validation_set.class_names\n",
        "class_name"
      ]
    },
    {
      "cell_type": "code",
      "execution_count": null,
      "id": "ab39b21f-fef5-4c2d-8ddd-e24e22d3ff47",
      "metadata": {
        "id": "ab39b21f-fef5-4c2d-8ddd-e24e22d3ff47"
      },
      "outputs": [],
      "source": []
    },
    {
      "cell_type": "code",
      "execution_count": null,
      "id": "aa494546-bf8a-4bf7-8171-6e29f2f2a6e7",
      "metadata": {
        "id": "aa494546-bf8a-4bf7-8171-6e29f2f2a6e7",
        "outputId": "724d114b-aa86-4561-ce65-dd058ab0d91c",
        "colab": {
          "base_uri": "https://localhost:8080/"
        }
      },
      "outputs": [
        {
          "output_type": "stream",
          "name": "stdout",
          "text": [
            "Found 1027 files belonging to 3 classes.\n"
          ]
        }
      ],
      "source": [
        "test_set = tf.keras.utils.image_dataset_from_directory(\n",
        "    '/content/drive/MyDrive/Colab Notebooks/Chat Bot/aicrop/Rice-diseases-Data-Set/Dataset',\n",
        "    labels=\"inferred\",\n",
        "    label_mode=\"categorical\",\n",
        "    class_names=None,\n",
        "    color_mode=\"rgb\",\n",
        "    batch_size=32,\n",
        "    image_size=(128, 128),\n",
        "    shuffle=False,\n",
        "    seed=None,\n",
        "    validation_split=None,\n",
        "    subset=None,\n",
        "    interpolation=\"bilinear\",\n",
        "    follow_links=False,\n",
        "    crop_to_aspect_ratio=False,\n",
        ")"
      ]
    },
    {
      "cell_type": "code",
      "execution_count": null,
      "id": "dfd2b9e3-ab67-4484-96df-c4d289da5666",
      "metadata": {
        "id": "dfd2b9e3-ab67-4484-96df-c4d289da5666",
        "outputId": "9319506c-1390-4117-cbc7-e5f0ca5932e1",
        "colab": {
          "base_uri": "https://localhost:8080/"
        }
      },
      "outputs": [
        {
          "output_type": "stream",
          "name": "stdout",
          "text": [
            "\u001b[1m33/33\u001b[0m \u001b[32m━━━━━━━━━━━━━━━━━━━━\u001b[0m\u001b[37m\u001b[0m \u001b[1m97s\u001b[0m 3s/step\n"
          ]
        },
        {
          "output_type": "execute_result",
          "data": {
            "text/plain": [
              "(array([[0.41544288, 0.36301452, 0.22154261],\n",
              "        [0.41544288, 0.36301452, 0.22154261],\n",
              "        [0.41544288, 0.36301452, 0.22154261],\n",
              "        ...,\n",
              "        [0.41544288, 0.36301452, 0.22154261],\n",
              "        [0.41544288, 0.36301452, 0.22154261],\n",
              "        [0.41544288, 0.36301452, 0.22154261]], dtype=float32),\n",
              " (1027, 3))"
            ]
          },
          "metadata": {},
          "execution_count": 77
        }
      ],
      "source": [
        "y_pred = model.predict(test_set)\n",
        "y_pred,y_pred.shape"
      ]
    },
    {
      "cell_type": "code",
      "execution_count": null,
      "id": "06e988a1-6aa7-47d8-9d1e-186e5e551fa0",
      "metadata": {
        "id": "06e988a1-6aa7-47d8-9d1e-186e5e551fa0"
      },
      "outputs": [],
      "source": [
        "predicted_categories = tf.argmax(y_pred,axis=1)"
      ]
    },
    {
      "cell_type": "code",
      "execution_count": null,
      "id": "f62af646-f696-4402-a7e3-579e41218ee2",
      "metadata": {
        "id": "f62af646-f696-4402-a7e3-579e41218ee2",
        "outputId": "c168084f-49d0-47da-e6ae-ecfdff44f3f8",
        "colab": {
          "base_uri": "https://localhost:8080/"
        }
      },
      "outputs": [
        {
          "output_type": "execute_result",
          "data": {
            "text/plain": [
              "<tf.Tensor: shape=(1027,), dtype=int64, numpy=array([0, 0, 0, ..., 0, 0, 0])>"
            ]
          },
          "metadata": {},
          "execution_count": 79
        }
      ],
      "source": [
        "predicted_categories"
      ]
    },
    {
      "cell_type": "code",
      "execution_count": null,
      "id": "fcb5a7ff-c83f-43eb-810b-2e37573c8a58",
      "metadata": {
        "id": "fcb5a7ff-c83f-43eb-810b-2e37573c8a58",
        "outputId": "7e78fed0-0e14-406a-cc28-5ec3da0d428e",
        "colab": {
          "base_uri": "https://localhost:8080/"
        }
      },
      "outputs": [
        {
          "output_type": "execute_result",
          "data": {
            "text/plain": [
              "<tf.Tensor: shape=(1027, 3), dtype=float32, numpy=\n",
              "array([[1., 0., 0.],\n",
              "       [1., 0., 0.],\n",
              "       [1., 0., 0.],\n",
              "       ...,\n",
              "       [0., 0., 1.],\n",
              "       [0., 0., 1.],\n",
              "       [0., 0., 1.]], dtype=float32)>"
            ]
          },
          "metadata": {},
          "execution_count": 80
        }
      ],
      "source": [
        "true_categories = tf.concat([y for x,y in test_set],axis=0)\n",
        "true_categories"
      ]
    },
    {
      "cell_type": "code",
      "execution_count": null,
      "id": "57a09657-42c7-4031-acae-bc1849860c5e",
      "metadata": {
        "id": "57a09657-42c7-4031-acae-bc1849860c5e",
        "outputId": "f750f0a9-7f5f-4629-b57e-a5ca1a19b2af",
        "colab": {
          "base_uri": "https://localhost:8080/"
        }
      },
      "outputs": [
        {
          "output_type": "execute_result",
          "data": {
            "text/plain": [
              "<tf.Tensor: shape=(1027,), dtype=int64, numpy=array([0, 0, 0, ..., 2, 2, 2])>"
            ]
          },
          "metadata": {},
          "execution_count": 81
        }
      ],
      "source": [
        "Y_true = tf.argmax(true_categories,axis=1)\n",
        "Y_true"
      ]
    },
    {
      "cell_type": "code",
      "execution_count": null,
      "id": "1ce00a1b-cb80-4514-ad92-9b028eefb303",
      "metadata": {
        "id": "1ce00a1b-cb80-4514-ad92-9b028eefb303"
      },
      "outputs": [],
      "source": []
    },
    {
      "cell_type": "markdown",
      "id": "5f05025b-2d5d-4a4e-b61a-0f7945f9dd76",
      "metadata": {
        "id": "5f05025b-2d5d-4a4e-b61a-0f7945f9dd76"
      },
      "source": [
        "![image.png](attachment:f464cbcc-5d6b-4f32-835c-9aabe0f9c5d4.png)"
      ]
    },
    {
      "cell_type": "code",
      "execution_count": null,
      "id": "1ab8928d-4b3b-4972-b2cf-6a1f3f94754b",
      "metadata": {
        "id": "1ab8928d-4b3b-4972-b2cf-6a1f3f94754b"
      },
      "outputs": [],
      "source": []
    },
    {
      "cell_type": "code",
      "execution_count": null,
      "id": "536ad547-09e9-4237-8afb-9833dcc21ae6",
      "metadata": {
        "id": "536ad547-09e9-4237-8afb-9833dcc21ae6"
      },
      "outputs": [],
      "source": [
        "from sklearn.metrics import classification_report,confusion_matrix"
      ]
    },
    {
      "cell_type": "code",
      "execution_count": null,
      "id": "6dd8af3c-f60b-4978-9ce3-d4278fcf3cd7",
      "metadata": {
        "id": "6dd8af3c-f60b-4978-9ce3-d4278fcf3cd7",
        "outputId": "6f2cc840-3340-4c88-a8ef-6d4d629ef599",
        "colab": {
          "base_uri": "https://localhost:8080/"
        }
      },
      "outputs": [
        {
          "output_type": "stream",
          "name": "stdout",
          "text": [
            "              precision    recall  f1-score   support\n",
            "\n",
            "   Bacterial       0.24      1.00      0.39       250\n",
            "      Fungal       0.00      0.00      0.00       727\n",
            "       Viral       0.00      0.00      0.00        50\n",
            "\n",
            "    accuracy                           0.24      1027\n",
            "   macro avg       0.08      0.33      0.13      1027\n",
            "weighted avg       0.06      0.24      0.10      1027\n",
            "\n"
          ]
        },
        {
          "output_type": "stream",
          "name": "stderr",
          "text": [
            "/usr/local/lib/python3.11/dist-packages/sklearn/metrics/_classification.py:1565: UndefinedMetricWarning: Precision is ill-defined and being set to 0.0 in labels with no predicted samples. Use `zero_division` parameter to control this behavior.\n",
            "  _warn_prf(average, modifier, f\"{metric.capitalize()} is\", len(result))\n",
            "/usr/local/lib/python3.11/dist-packages/sklearn/metrics/_classification.py:1565: UndefinedMetricWarning: Precision is ill-defined and being set to 0.0 in labels with no predicted samples. Use `zero_division` parameter to control this behavior.\n",
            "  _warn_prf(average, modifier, f\"{metric.capitalize()} is\", len(result))\n",
            "/usr/local/lib/python3.11/dist-packages/sklearn/metrics/_classification.py:1565: UndefinedMetricWarning: Precision is ill-defined and being set to 0.0 in labels with no predicted samples. Use `zero_division` parameter to control this behavior.\n",
            "  _warn_prf(average, modifier, f\"{metric.capitalize()} is\", len(result))\n"
          ]
        }
      ],
      "source": [
        "print(classification_report(Y_true,predicted_categories,target_names=class_name))"
      ]
    },
    {
      "cell_type": "code",
      "execution_count": null,
      "id": "a0734fb8-65f9-4c21-a094-2e2eaefbfd42",
      "metadata": {
        "id": "a0734fb8-65f9-4c21-a094-2e2eaefbfd42",
        "outputId": "2eefa671-d162-4669-dd7b-c05aed54d507",
        "colab": {
          "base_uri": "https://localhost:8080/"
        }
      },
      "outputs": [
        {
          "output_type": "execute_result",
          "data": {
            "text/plain": [
              "array([[250,   0,   0],\n",
              "       [727,   0,   0],\n",
              "       [ 50,   0,   0]])"
            ]
          },
          "metadata": {},
          "execution_count": 84
        }
      ],
      "source": [
        "cm = confusion_matrix(Y_true,predicted_categories)\n",
        "cm"
      ]
    },
    {
      "cell_type": "code",
      "execution_count": null,
      "id": "113f714f-2150-4de2-8818-5e8bd7ea2ef9",
      "metadata": {
        "id": "113f714f-2150-4de2-8818-5e8bd7ea2ef9"
      },
      "outputs": [],
      "source": []
    },
    {
      "cell_type": "markdown",
      "id": "6f233316-7109-4d06-a7c1-4879fe92f940",
      "metadata": {
        "id": "6f233316-7109-4d06-a7c1-4879fe92f940"
      },
      "source": [
        "### Confusion Matrix Visualization"
      ]
    },
    {
      "cell_type": "code",
      "execution_count": null,
      "id": "6539957d-8cb7-4503-90d7-836f4080d212",
      "metadata": {
        "id": "6539957d-8cb7-4503-90d7-836f4080d212",
        "outputId": "d7d68ca3-e959-487d-fbf4-e26d1d4c2372",
        "colab": {
          "base_uri": "https://localhost:8080/",
          "height": 753
        }
      },
      "outputs": [
        {
          "output_type": "display_data",
          "data": {
            "text/plain": [
              "<Figure size 4000x4000 with 2 Axes>"
            ],
            "image/png": "[encoded data removed]"
          },
          "metadata": {}
        }
      ],
      "source": [
        "plt.figure(figsize=(40,40))\n",
        "sns.heatmap(cm,annot=True,annot_kws={'size':10})\n",
        "plt.xlabel(\"Predicted Class\",fontsize=20)\n",
        "plt.ylabel(\"Actual Class\",fontsize=20)\n",
        "plt.title(\"Plant Disease Prediction Confusion Matrix\",fontsize=25)\n",
        "plt.show()"
      ]
    },
    {
      "cell_type": "code",
      "execution_count": null,
      "id": "0dce485e-5f6e-46fa-b082-afc5b48126b7",
      "metadata": {
        "id": "0dce485e-5f6e-46fa-b082-afc5b48126b7"
      },
      "outputs": [],
      "source": []
    },
    {
      "cell_type": "code",
      "execution_count": null,
      "id": "beeeb6e0-6671-4ae0-abef-86d5992072e8",
      "metadata": {
        "id": "beeeb6e0-6671-4ae0-abef-86d5992072e8"
      },
      "outputs": [],
      "source": []
    },
    {
      "cell_type": "code",
      "execution_count": null,
      "id": "a61294ee-2257-46c3-9708-93db01425dda",
      "metadata": {
        "id": "a61294ee-2257-46c3-9708-93db01425dda"
      },
      "outputs": [],
      "source": []
    },
    {
      "cell_type": "code",
      "execution_count": null,
      "id": "88eb63e3-debd-4aae-9436-6ed080de6265",
      "metadata": {
        "id": "88eb63e3-debd-4aae-9436-6ed080de6265"
      },
      "outputs": [],
      "source": []
    }
  ],
  "metadata": {
    "kernelspec": {
      "display_name": "Python 3.10 (tensorflow)",
      "language": "python",
      "name": "tensorflow"
    },
    "language_info": {
      "codemirror_mode": {
        "name": "ipython",
        "version": 3
      },
      "file_extension": ".py",
      "mimetype": "text/x-python",
      "name": "python",
      "nbconvert_exporter": "python",
      "pygments_lexer": "ipython3",
      "version": "3.10.12"
    },
    "colab": {
      "provenance": [],
      "collapsed_sections": [
        "5b20c108-1114-4121-8252-5a147f7595ee"
      ],
      "gpuType": "T4"
    },
    "accelerator": "GPU"
  },
  "nbformat": 4,
  "nbformat_minor": 5
}